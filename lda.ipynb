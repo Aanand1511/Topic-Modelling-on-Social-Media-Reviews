{
 "cells": [
  {
   "cell_type": "code",
   "execution_count": null,
   "metadata": {},
   "outputs": [],
   "source": [
    "import pandas as pd\n",
    "import string\n",
    "from nltk.corpus import stopwords\n",
    "from nltk.tokenize import word_tokenize\n",
    "from gensim import corpora\n",
    "from gensim.models.ldamodel import LdaModel\n",
    "\n",
    "# Preprocess text\n",
    "def preprocess(text):\n",
    "    stop_words = set(stopwords.words('english'))\n",
    "    text = text.lower()\n",
    "    text = text.translate(str.maketrans('', '', string.punctuation))  # Remove punctuation\n",
    "    words = word_tokenize(text)\n",
    "    return [word for word in words if word not in stop_words]\n",
    "\n",
    "# Perform LDA\n",
    "def perform_topic_modeling(data, num_topics=5):\n",
    "    tokenized_reviews = [preprocess(review) for review in data['review']]\n",
    "    dictionary = corpora.Dictionary(tokenized_reviews)\n",
    "    corpus = [dictionary.doc2bow(text) for text in tokenized_reviews]\n",
    "    lda_model = LdaModel(corpus, num_topics=num_topics, id2word=dictionary, passes=15)\n",
    "    return lda_model, corpus, dictionary\n"
   ]
  }
 ],
 "metadata": {
  "kernelspec": {
   "display_name": "Python 3",
   "language": "python",
   "name": "python3"
  },
  "language_info": {
   "name": "python",
   "version": "3.11.0"
  }
 },
 "nbformat": 4,
 "nbformat_minor": 2
}
